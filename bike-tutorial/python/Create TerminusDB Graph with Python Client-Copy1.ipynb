{
 "cells": [
  {
   "cell_type": "code",
   "execution_count": 1,
   "metadata": {},
   "outputs": [],
   "source": [
    "import csv\n",
    "import terminusdb_client as woql\n",
    "from terminusdb_client import woqldataframe\n",
    "from terminusdb_client import WOQLQuery\n",
    "from terminusdb_client import TerminusDB, WOQLClass, WOQLObj"
   ]
  },
  {
   "cell_type": "code",
   "execution_count": 2,
   "metadata": {},
   "outputs": [],
   "source": [
    "db = TerminusDB(\"https://127.0.0.1:6360\", \"pybike2\")"
   ]
  },
  {
   "cell_type": "code",
   "execution_count": 3,
   "metadata": {},
   "outputs": [
    {
     "data": {
      "text/plain": [
       "{'@type': 'api:WoqlResponse',\n",
       " 'api:status': 'api:success',\n",
       " 'api:variable_names': [],\n",
       " 'bindings': [{}],\n",
       " 'deletes': 0,\n",
       " 'inserts': 34,\n",
       " 'transaction_retry_count': 0}"
      ]
     },
     "execution_count": 3,
     "metadata": {},
     "output_type": "execute_result"
    }
   ],
   "source": [
    "bike_class = WOQLClass(\"Bicycle\", label=\"Bicycle\")\n",
    "station_class = WOQLClass(\"Station\", label=\"Bike Station\", description=\"A station where bikes are deposited\")\n",
    "journey_class = WOQLClass(\"Journey\", label=\"Journey\")\n",
    "\n",
    "journey_class.add_property(\"start_station\", \"Station\", label=\"Start Station\")\n",
    "journey_class.add_property(\"end_station\", \"Station\", label=\"Start Station\")\n",
    "journey_class.add_property(\"duration\", \"integer\", label=\"Journey Duration\")\n",
    "journey_class.add_property(\"start_time\", \"dateTime\", label=\"Time Started\")\n",
    "journey_class.add_property(\"end_time\", \"dateTime\", label=\"Time Ended\")\n",
    "journey_class.add_property(\"journey_bicycle\", \"Bicycle\", label=\"Bicycle Used\")\n",
    "\n",
    "db.add_class([bike_class,station_class,journey_class])"
   ]
  },
  {
   "cell_type": "code",
   "execution_count": null,
   "metadata": {},
   "outputs": [],
   "source": [
    "csvs = [\n",
    "    \"https://terminusdb.com/t/data/bikeshare/2011-capitalbikeshare-tripdata.csv\",\n",
    "    \"https://terminusdb.com/t/data/bikeshare/2012Q1-capitalbikeshare-tripdata.csv\",\n",
    "    \"https://terminusdb.com/t/data/bikeshare/2010-capitalbikeshare-tripdata.csv\",\n",
    "    \"https://terminusdb.com/t/data/bikeshare/2012Q2-capitalbikeshare-tripdata.csv\",\n",
    "    \"https://terminusdb.com/t/data/bikeshare/2012Q3-capitalbikeshare-tripdata.csv\",\n",
    "    \"https://terminusdb.com/t/data/bikeshare/2012Q4-capitalbikeshare-tripdata.csv\",\n",
    "    \"https://terminusdb.com/t/data/bikeshare/2013Q1-capitalbikeshare-tripdata.csv\",\n",
    "    \"https://terminusdb.com/t/data/bikeshare/2013Q2-capitalbikeshare-tripdata.csv\",\n",
    "    \"https://terminusdb.com/t/data/bikeshare/2013Q3-capitalbikeshare-tripdata.csv\",\n",
    "    \"https://terminusdb.com/t/data/bikeshare/2013Q4-capitalbikeshare-tripdata.csv\",\n",
    "    \"https://terminusdb.com/t/data/bikeshare/2014Q1-capitalbikeshare-tripdata.csv\",\n",
    "    \"https://terminusdb.com/t/data/bikeshare/2014Q2-capitalbikeshare-tripdata.csv\",\n",
    "    \"https://terminusdb.com/t/data/bikeshare/2014Q3-capitalbikeshare-tripdata.csv\",\n",
    "    \"https://terminusdb.com/t/data/bikeshare/2014Q4-capitalbikeshare-tripdata.csv\",\n",
    "    \"https://terminusdb.com/t/data/bikeshare/2015Q1-capitalbikeshare-tripdata.csv\",\n",
    "    \"https://terminusdb.com/t/data/bikeshare/2015Q2-capitalbikeshare-tripdata.csv\",\n",
    "    \"https://terminusdb.com/t/data/bikeshare/2015Q3-capitalbikeshare-tripdata.csv\",\n",
    "    \"https://terminusdb.com/t/data/bikeshare/2015Q4-capitalbikeshare-tripdata.csv\",\n",
    "    \"https://terminusdb.com/t/data/bikeshare/2016Q1-capitalbikeshare-tripdata.csv\",\n",
    "    \"https://terminusdb.com/t/data/bikeshare/2016Q2-capitalbikeshare-tripdata.csv\",\n",
    "    \"https://terminusdb.com/t/data/bikeshare/2016Q3-capitalbikeshare-tripdata.csv\",\n",
    "    \"https://terminusdb.com/t/data/bikeshare/2016Q4-capitalbikeshare-tripdata.csv\",\n",
    "    \"https://terminusdb.com/t/data/bikeshare/2017Q1-capitalbikeshare-tripdata.csv\",\n",
    "    \"https://terminusdb.com/t/data/bikeshare/2017Q2-capitalbikeshare-tripdata.csv\",\n",
    "    \"https://terminusdb.com/t/data/bikeshare/2017Q3-capitalbikeshare-tripdata.csv\",\n",
    "    \"https://terminusdb.com/t/data/bikeshare/2017Q4-capitalbikeshare-tripdata.csv\",\n",
    "    \"https://terminusdb.com/t/data/bikeshare/201801_capitalbikeshare_tripdata.csv\",\n",
    "    \"https://terminusdb.com/t/data/bikeshare/201802-capitalbikeshare-tripdata.csv\",\n",
    "    \"https://terminusdb.com/t/data/bikeshare/201803-capitalbikeshare-tripdata.csv\",\n",
    "    \"https://terminusdb.com/t/data/bikeshare/201804-capitalbikeshare-tripdata.csv\",\n",
    "    \"https://terminusdb.com/t/data/bikeshare/201805-capitalbikeshare-tripdata.csv\",\n",
    "    \"https://terminusdb.com/t/data/bikeshare/201806-capitalbikeshare-tripdata.csv\",\n",
    "    \"https://terminusdb.com/t/data/bikeshare/201807-capitalbikeshare-tripdata.csv\",\n",
    "    \"https://terminusdb.com/t/data/bikeshare/201808-capitalbikeshare-tripdata.csv\",\n",
    "    \"https://terminusdb.com/t/data/bikeshare/201809-capitalbikeshare-tripdata.csv\",\n",
    "    \"https://terminusdb.com/t/data/bikeshare/201810-capitalbikeshare-tripdata.csv\",\n",
    "    \"https://terminusdb.com/t/data/bikeshare/201811-capitalbikeshare-tripdata.csv\",\n",
    "    \"https://terminusdb.com/t/data/bikeshare/201812-capitalbikeshare-tripdata.csv\"\n",
    "]"
   ]
  },
  {
   "cell_type": "code",
   "execution_count": 4,
   "metadata": {},
   "outputs": [],
   "source": [
    "def insert_data(url):\n",
    "    with open(url) as csvfile:\n",
    "        reader = csv.reader(csvfile, delimiter=',')\n",
    "        #next(reader, None)\n",
    "        for row in reader:\n",
    "            print(row)\n",
    "            break\n",
    "       \n",
    "            "
   ]
  },
  {
   "cell_type": "code",
   "execution_count": 5,
   "metadata": {},
   "outputs": [
    {
     "ename": "FileNotFoundError",
     "evalue": "[Errno 2] No such file or directory: 'https://terminusdb.com/t/data/bikeshare/2011-capitalbikeshare-tripdata.csv'",
     "output_type": "error",
     "traceback": [
      "\u001b[0;31m---------------------------------------------------------------------------\u001b[0m",
      "\u001b[0;31mFileNotFoundError\u001b[0m                         Traceback (most recent call last)",
      "\u001b[0;32m<ipython-input-5-4bc9c671088c>\u001b[0m in \u001b[0;36m<module>\u001b[0;34m\u001b[0m\n\u001b[0;32m----> 1\u001b[0;31m \u001b[0minsert_data\u001b[0m\u001b[0;34m(\u001b[0m\u001b[0;34m\"https://terminusdb.com/t/data/bikeshare/2011-capitalbikeshare-tripdata.csv\"\u001b[0m\u001b[0;34m)\u001b[0m\u001b[0;34m\u001b[0m\u001b[0;34m\u001b[0m\u001b[0m\n\u001b[0m",
      "\u001b[0;32m<ipython-input-4-2cedd32c2af8>\u001b[0m in \u001b[0;36minsert_data\u001b[0;34m(url)\u001b[0m\n\u001b[1;32m      1\u001b[0m \u001b[0;32mdef\u001b[0m \u001b[0minsert_data\u001b[0m\u001b[0;34m(\u001b[0m\u001b[0murl\u001b[0m\u001b[0;34m)\u001b[0m\u001b[0;34m:\u001b[0m\u001b[0;34m\u001b[0m\u001b[0;34m\u001b[0m\u001b[0m\n\u001b[0;32m----> 2\u001b[0;31m     \u001b[0;32mwith\u001b[0m \u001b[0mopen\u001b[0m\u001b[0;34m(\u001b[0m\u001b[0murl\u001b[0m\u001b[0;34m)\u001b[0m \u001b[0;32mas\u001b[0m \u001b[0mcsvfile\u001b[0m\u001b[0;34m:\u001b[0m\u001b[0;34m\u001b[0m\u001b[0;34m\u001b[0m\u001b[0m\n\u001b[0m\u001b[1;32m      3\u001b[0m         \u001b[0mreader\u001b[0m \u001b[0;34m=\u001b[0m \u001b[0mcsv\u001b[0m\u001b[0;34m.\u001b[0m\u001b[0mreader\u001b[0m\u001b[0;34m(\u001b[0m\u001b[0mcsvfile\u001b[0m\u001b[0;34m,\u001b[0m \u001b[0mdelimiter\u001b[0m\u001b[0;34m=\u001b[0m\u001b[0;34m','\u001b[0m\u001b[0;34m)\u001b[0m\u001b[0;34m\u001b[0m\u001b[0;34m\u001b[0m\u001b[0m\n\u001b[1;32m      4\u001b[0m         \u001b[0;31m#next(reader, None)\u001b[0m\u001b[0;34m\u001b[0m\u001b[0;34m\u001b[0m\u001b[0;34m\u001b[0m\u001b[0m\n\u001b[1;32m      5\u001b[0m         \u001b[0;32mfor\u001b[0m \u001b[0mrow\u001b[0m \u001b[0;32min\u001b[0m \u001b[0mreader\u001b[0m\u001b[0;34m:\u001b[0m\u001b[0;34m\u001b[0m\u001b[0;34m\u001b[0m\u001b[0m\n",
      "\u001b[0;31mFileNotFoundError\u001b[0m: [Errno 2] No such file or directory: 'https://terminusdb.com/t/data/bikeshare/2011-capitalbikeshare-tripdata.csv'"
     ]
    }
   ],
   "source": [
    "insert_data(\"https://terminusdb.com/t/data/bikeshare/2011-capitalbikeshare-tripdata.csv\")"
   ]
  },
  {
   "cell_type": "code",
   "execution_count": null,
   "metadata": {},
   "outputs": [],
   "source": [
    "server_url = \"http://localhost:6363\"\n",
    "account_id = \"admin\"\n",
    "user_id=\"admin\"\n",
    "key = \"root\"\n",
    "db_id = \"pybike\"\n",
    "db_name = \"Bicycle Graph\"\n",
    "\n",
    "\n",
    "client = woql.WOQLClient(server_url=\"http://localhost:6363\")\n",
    "client.connect(key=key, account=account_id, user=user_id)\n",
    "\n",
    "existing = client.get_metadata(db_id, client.uid())\n",
    "if not existing:\n",
    "    client.create_database(db_id, accountid=\"admin\", label = \"Bike Graph\", description = \"Create a graph with bike data\")\n",
    "else:\n",
    "    client.db(db_id)"
   ]
  },
  {
   "cell_type": "code",
   "execution_count": null,
   "metadata": {},
   "outputs": [],
   "source": [
    "def create_schema(client, commit_msg):\n",
    "    \"\"\"The query which creates the schema\n",
    "        Parameters - it uses variables rather than the fluent style as an example\n",
    "        ==========\n",
    "        client : a WOQLClient() connection\n",
    "\n",
    "    \"\"\"\n",
    "    schema = WOQLQuery().woql_and(\n",
    "        WOQLQuery().doctype(\"Station\",\n",
    "                            label=\"Bike Station\",\n",
    "                            description=\"A station where bikes are deposited\"),\n",
    "        WOQLQuery().doctype(\"Bicycle\", label=\"Bicycle\"),\n",
    "        WOQLQuery().doctype(\"Journey\", label=\"Journey\").\n",
    "            property(\"start_station\", \"Station\", label=\"Start Station\").\n",
    "            property(\"end_station\", \"Station\", label=\"End Station\").\n",
    "            property(\"duration\", \"integer\", label=\"Journey Duration\").\n",
    "            property(\"start_time\", \"dateTime\", label=\"Time Started\").\n",
    "            property(\"end_time\", \"dateTime\", label=\"Time Ended\").\n",
    "            property(\"journey_bicycle\", \"Bicycle\", label=\"Bicycle Used\")\n",
    "    )\n",
    "    return schema.execute(client)\n",
    "\n",
    "create_schema(client, \"Creating bike schema\")"
   ]
  },
  {
   "cell_type": "code",
   "execution_count": null,
   "metadata": {},
   "outputs": [],
   "source": [
    "def get_csv_variables(url):\n",
    "    \"\"\"Extracting the data from a CSV and binding it to variables\n",
    "       Parameters\n",
    "       ==========\n",
    "       client : a WOQLClient() connection\n",
    "       url : string, the URL of the CSV\n",
    "       \"\"\"\n",
    "    csv = WOQLQuery().get(\n",
    "        WOQLQuery().woql_as(\"Start station\", \"v:Start_Station\").\n",
    "        woql_as(\"End station\", \"v:End_Station\").\n",
    "        woql_as(\"Start date\", \"v:Start_Time\").\n",
    "        woql_as(\"End date\", \"v:End_Time\").\n",
    "        woql_as(\"Duration\", \"v:Duration\").\n",
    "        woql_as(\"Start station number\", \"v:Start_ID\").\n",
    "        woql_as(\"End station number\", \"v:End_ID\").\n",
    "        woql_as(\"Bike number\", \"v:Bike\").\n",
    "        woql_as(\"Member type\", \"v:Member_Type\")\n",
    "    ).remote(url)\n",
    "    return csv\n",
    "\n",
    "\n",
    "def get_wrangles():\n",
    "    wrangles = [\n",
    "        WOQLQuery().idgen(\"doc:Journey\", [\n",
    "            \"v:Start_ID\", \"v:Start_Time\", \"v:Bike\"], \"v:Journey_ID\"),\n",
    "        WOQLQuery().idgen(\"doc:Station\", [\n",
    "            \"v:Start_ID\"], \"v:Start_Station_URL\"),\n",
    "        WOQLQuery().cast(\"v:Duration\", \"xsd:integer\", \"v:Duration_Cast\"),\n",
    "        WOQLQuery().cast(\"v:Bike\", \"xsd:string\", \"v:Bike_Label\"),\n",
    "        WOQLQuery().cast(\"v:Start_Time\", \"xsd:dateTime\", \"v:Start_Time_Cast\"),\n",
    "        WOQLQuery().cast(\"v:End_Time\", \"xsd:dateTime\", \"v:End_Time_Cast\"),\n",
    "        WOQLQuery().cast(\"v:Start_Station\", \"xsd:string\", \"v:Start_Station_Label\"),\n",
    "        WOQLQuery().cast(\"v:End_Station\", \"xsd:string\", \"v:End_Station_Label\"),\n",
    "        WOQLQuery().idgen(\"doc:Station\", [\"v:End_ID\"], \"v:End_Station_URL\"),\n",
    "        WOQLQuery().idgen(\"doc:Bicycle\", [\"v:Bike_Label\"], \"v:Bike_URL\"),\n",
    "        WOQLQuery().concat(\"Journey from v:Start_ID to v:End_ID at v:Start_Time\", \"v:Journey_Label\"),\n",
    "        WOQLQuery().concat(\"Bike v:Bik                                                                                                                                                                                        e from v:Start_Station to v:End_Station at v:Start_Time until v:End_Time\",\n",
    "                           \"v:Journey_Description\")\n",
    "    ]\n",
    "    return wrangles\n",
    "\n",
    "\n",
    "def get_inserts():\n",
    "    inserts = WOQLQuery().woql_and(\n",
    "        WOQLQuery().insert(\"v:Journey_ID\", \"Journey\",\n",
    "            label=\"v:Journey_Label\",\n",
    "            description=\"v:Journey_Description\").\n",
    "            property(\"start_time\", \"v:Start_Time_Cast\").\n",
    "            property(\"end_time\", \"v:End_Time_Cast\").\n",
    "            property(\"duration\", \"v:Duration_Cast\").\n",
    "            property(\"start_station\", \"v:Start_Station_URL\").\n",
    "            property(\"end_station\", \"v:End_Station_URL\").\n",
    "            property(\"journey_bicycle\", \"v:Bike_URL\"),\n",
    "        WOQLQuery().insert(\"v:Start_Station_URL\", \"Station\",\n",
    "            label=\"v:Start_Station_Label\"),\n",
    "        WOQLQuery().insert(\"v:End_Station_URL\", \"Station\",\n",
    "            label=\"v:End_Station_Label\"),\n",
    "        WOQLQuery().insert(\"v:Bike_URL\", \"Bicycle\",\n",
    "            label=\"v:Bike_Label\")\n",
    "    )\n",
    "    return inserts\n",
    "\n",
    "\n",
    "def load_csvs(client, csvlist, wrangl, insert):\n",
    "    \"\"\"Load the CSVs as input\n",
    "       Parameters\n",
    "       ==========\n",
    "       client : a WOQLClient() connection\n",
    "       csvs : a dict of all csvs to be input\n",
    "    \"\"\"\n",
    "    for url in csvlist:\n",
    "        csv = get_csv_variables(url)\n",
    "        inputs = WOQLQuery().woql_and(csv, *wrangl)\n",
    "        answer = WOQLQuery().when(inputs, insert)\n",
    "        answer.execute(client, f\"loading {url} into the graph\")\n",
    "\n",
    "load_csvs(client, csvs, get_wrangles(), get_inserts())"
   ]
  },
  {
   "cell_type": "code",
   "execution_count": null,
   "metadata": {
    "scrolled": true
   },
   "outputs": [],
   "source": [
    "def query_data(client):\n",
    "    \"\"\"The query which query the database\n",
    "        Parameters - it uses variables rather than the fluent style as an example\n",
    "        ==========\n",
    "        client : a WOQLClient() connection\n",
    "    \"\"\"\n",
    "    conditions = [WOQLQuery().triple(\"v:Journey\", \"type\", \"scm:Journey\"),\n",
    "                  WOQLQuery().triple(\"v:Journey\", \"start_station\", \"v:Start\"),\n",
    "                  WOQLQuery().opt().triple(\"v:Start\", \"label\", \"v:Start_Label\"),\n",
    "                  WOQLQuery().triple(\"v:Journey\", \"end_station\", \"v:End\"),\n",
    "                  WOQLQuery().opt().triple(\"v:End\", \"label\", \"v:End_Label\"),\n",
    "                  WOQLQuery().triple(\"v:Journey\", \"journey_bicycle\", \"v:Bike\")]\n",
    "    query = WOQLQuery().select(\"v:Start\",\n",
    "                               \"v:Start_Label\",\n",
    "                               \"v:End\",\n",
    "                               \"v:End_Label\").woql_and(*conditions)\n",
    "    return query.execute(client)\n",
    "\n",
    "result = query_data(client)"
   ]
  },
  {
   "cell_type": "code",
   "execution_count": null,
   "metadata": {},
   "outputs": [],
   "source": [
    "woqldataframe.query_to_df(result)"
   ]
  },
  {
   "cell_type": "code",
   "execution_count": null,
   "metadata": {},
   "outputs": [],
   "source": []
  }
 ],
 "metadata": {
  "kernelspec": {
   "display_name": "Python 3",
   "language": "python",
   "name": "python3"
  },
  "language_info": {
   "codemirror_mode": {
    "name": "ipython",
    "version": 3
   },
   "file_extension": ".py",
   "mimetype": "text/x-python",
   "name": "python",
   "nbconvert_exporter": "python",
   "pygments_lexer": "ipython3",
   "version": "3.7.3"
  }
 },
 "nbformat": 4,
 "nbformat_minor": 4
}
