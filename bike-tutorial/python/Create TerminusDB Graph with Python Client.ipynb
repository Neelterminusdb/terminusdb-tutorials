{
 "cells": [
  {
   "cell_type": "code",
   "execution_count": 1,
   "metadata": {},
   "outputs": [],
   "source": [
    "from terminusdb_client import WOQLQuery\n",
    "from terminusdb_client import WOQLClient\n",
    "from terminusdb_client import woqldataframe\n",
    "\n",
    "server_url = \"https://127.0.0.1:6363\"\n",
    "user = \"admin\"\n",
    "account = \"admin\"\n",
    "key = \"root\"\n",
    "dbid = \"pybike\"\n",
    "repository = \"local\"\n",
    "label = \"Bike Graph\"\n",
    "description = \"Create a graph with bike data\"\n",
    "\n",
    "client = WOQLClient(server_url)\n",
    "result = client.connect(user=user,account=account,key=key,db=dbid)"
   ]
  },
  {
   "cell_type": "code",
   "execution_count": 2,
   "metadata": {},
   "outputs": [
    {
     "name": "stderr",
     "output_type": "stream",
     "text": [
      "/Users/saran-7185/personal_repos/pycon-devsprint2020/terminusdb/terminusdb-bootstrap/env/lib/python3.7/site-packages/ipykernel/ipkernel.py:287: DeprecationWarning: `should_run_async` will not call `transform_cell` automatically in the future. Please pass the result to `transformed_cell` argument and any exception that happen during thetransform in `preprocessing_exc_tuple` in IPython 7.17 and above.\n",
      "  and should_run_async(code)\n"
     ]
    },
    {
     "data": {
      "text/plain": [
       "{'@type': 'api:DbDeleteResponse', 'api:status': 'api:success'}"
      ]
     },
     "execution_count": 2,
     "metadata": {},
     "output_type": "execute_result"
    }
   ],
   "source": [
    "# Uncomment this to delete your old database first\n",
    "client.delete_database(dbid)"
   ]
  },
  {
   "cell_type": "code",
   "execution_count": 3,
   "metadata": {},
   "outputs": [
    {
     "name": "stderr",
     "output_type": "stream",
     "text": [
      "/Users/saran-7185/personal_repos/pycon-devsprint2020/terminusdb/terminusdb-bootstrap/env/lib/python3.7/site-packages/ipykernel/ipkernel.py:287: DeprecationWarning: `should_run_async` will not call `transform_cell` automatically in the future. Please pass the result to `transformed_cell` argument and any exception that happen during thetransform in `preprocessing_exc_tuple` in IPython 7.17 and above.\n",
      "  and should_run_async(code)\n"
     ]
    }
   ],
   "source": [
    "# Create the database\n",
    "try:\n",
    "    client.create_database(dbid,user,label=label, description=description)\n",
    "except Exception as E:\n",
    "    error_obj = E.errorObj\n",
    "    if \"api:DatabaseAlreadyExists\" == error_obj.get(\"api:error\",{}).get(\"@type\",None):\n",
    "        print(f'Warning: Database \"{dbid}\" already exists!\\n')\n",
    "    else:\n",
    "        raise(E)"
   ]
  },
  {
   "cell_type": "code",
   "execution_count": 4,
   "metadata": {},
   "outputs": [
    {
     "name": "stderr",
     "output_type": "stream",
     "text": [
      "/Users/saran-7185/personal_repos/pycon-devsprint2020/terminusdb/terminusdb-bootstrap/env/lib/python3.7/site-packages/ipykernel/ipkernel.py:287: DeprecationWarning: `should_run_async` will not call `transform_cell` automatically in the future. Please pass the result to `transformed_cell` argument and any exception that happen during thetransform in `preprocessing_exc_tuple` in IPython 7.17 and above.\n",
      "  and should_run_async(code)\n"
     ]
    },
    {
     "data": {
      "text/plain": [
       "{'@type': 'api:WoqlResponse',\n",
       " 'api:status': 'api:success',\n",
       " 'api:variable_names': [],\n",
       " 'bindings': [{}],\n",
       " 'deletes': 0,\n",
       " 'inserts': 34,\n",
       " 'transaction_retry_count': 0}"
      ]
     },
     "execution_count": 4,
     "metadata": {},
     "output_type": "execute_result"
    }
   ],
   "source": [
    "def create_schema(client, commit_msg):\n",
    "    \"\"\"The query which creates the schema\n",
    "        Parameters - it uses variables rather than the fluent style as an example\n",
    "        ==========\n",
    "        client : a WOQLClient() connection\n",
    "\n",
    "    \"\"\"\n",
    "    schema = WOQLQuery().woql_and(\n",
    "        WOQLQuery().doctype(\"Station\",\n",
    "                            label=\"Bike Station\",\n",
    "                            description=\"A station where bikes are deposited\"),\n",
    "        WOQLQuery().doctype(\"Bicycle\", label=\"Bicycle\"),\n",
    "        WOQLQuery().doctype(\"Journey\", label=\"Journey\").\n",
    "            property(\"start_station\", \"Station\", label=\"Start Station\").\n",
    "            property(\"end_station\", \"Station\", label=\"End Station\").\n",
    "            property(\"duration\", \"integer\", label=\"Journey Duration\").\n",
    "            property(\"start_time\", \"dateTime\", label=\"Time Started\").\n",
    "            property(\"end_time\", \"dateTime\", label=\"Time Ended\").\n",
    "            property(\"journey_bicycle\", \"Bicycle\", label=\"Bicycle Used\")\n",
    "    )\n",
    "    return schema.execute(client)\n",
    "\n",
    "create_schema(client, \"Creating bike schema\")"
   ]
  },
  {
   "cell_type": "code",
   "execution_count": 5,
   "metadata": {},
   "outputs": [
    {
     "name": "stderr",
     "output_type": "stream",
     "text": [
      "/Users/saran-7185/personal_repos/pycon-devsprint2020/terminusdb/terminusdb-bootstrap/env/lib/python3.7/site-packages/ipykernel/ipkernel.py:287: DeprecationWarning: `should_run_async` will not call `transform_cell` automatically in the future. Please pass the result to `transformed_cell` argument and any exception that happen during thetransform in `preprocessing_exc_tuple` in IPython 7.17 and above.\n",
      "  and should_run_async(code)\n"
     ]
    }
   ],
   "source": [
    "csvs = [\n",
    "    \"https://terminusdb.com/t/data/bikeshare/2011-capitalbikeshare-tripdata.csv\",\n",
    "    \"https://terminusdb.com/t/data/bikeshare/2012Q1-capitalbikeshare-tripdata.csv\",\n",
    "    \"https://terminusdb.com/t/data/bikeshare/2010-capitalbikeshare-tripdata.csv\",\n",
    "    \"https://terminusdb.com/t/data/bikeshare/2012Q2-capitalbikeshare-tripdata.csv\",\n",
    "    \"https://terminusdb.com/t/data/bikeshare/2012Q3-capitalbikeshare-tripdata.csv\",\n",
    "    \"https://terminusdb.com/t/data/bikeshare/2012Q4-capitalbikeshare-tripdata.csv\",\n",
    "    \"https://terminusdb.com/t/data/bikeshare/2013Q1-capitalbikeshare-tripdata.csv\",\n",
    "    \"https://terminusdb.com/t/data/bikeshare/2013Q2-capitalbikeshare-tripdata.csv\",\n",
    "    \"https://terminusdb.com/t/data/bikeshare/2013Q3-capitalbikeshare-tripdata.csv\",\n",
    "    \"https://terminusdb.com/t/data/bikeshare/2013Q4-capitalbikeshare-tripdata.csv\",\n",
    "    \"https://terminusdb.com/t/data/bikeshare/2014Q1-capitalbikeshare-tripdata.csv\",\n",
    "    \"https://terminusdb.com/t/data/bikeshare/2014Q2-capitalbikeshare-tripdata.csv\",\n",
    "    \"https://terminusdb.com/t/data/bikeshare/2014Q3-capitalbikeshare-tripdata.csv\",\n",
    "    \"https://terminusdb.com/t/data/bikeshare/2014Q4-capitalbikeshare-tripdata.csv\",\n",
    "    \"https://terminusdb.com/t/data/bikeshare/2015Q1-capitalbikeshare-tripdata.csv\",\n",
    "    \"https://terminusdb.com/t/data/bikeshare/2015Q2-capitalbikeshare-tripdata.csv\",\n",
    "    \"https://terminusdb.com/t/data/bikeshare/2015Q3-capitalbikeshare-tripdata.csv\",\n",
    "    \"https://terminusdb.com/t/data/bikeshare/2015Q4-capitalbikeshare-tripdata.csv\",\n",
    "    \"https://terminusdb.com/t/data/bikeshare/2016Q1-capitalbikeshare-tripdata.csv\",\n",
    "    \"https://terminusdb.com/t/data/bikeshare/2016Q2-capitalbikeshare-tripdata.csv\",\n",
    "    \"https://terminusdb.com/t/data/bikeshare/2016Q3-capitalbikeshare-tripdata.csv\",\n",
    "    \"https://terminusdb.com/t/data/bikeshare/2016Q4-capitalbikeshare-tripdata.csv\",\n",
    "    \"https://terminusdb.com/t/data/bikeshare/2017Q1-capitalbikeshare-tripdata.csv\",\n",
    "    \"https://terminusdb.com/t/data/bikeshare/2017Q2-capitalbikeshare-tripdata.csv\",\n",
    "    \"https://terminusdb.com/t/data/bikeshare/2017Q3-capitalbikeshare-tripdata.csv\",\n",
    "    \"https://terminusdb.com/t/data/bikeshare/2017Q4-capitalbikeshare-tripdata.csv\",\n",
    "    \"https://terminusdb.com/t/data/bikeshare/201801_capitalbikeshare_tripdata.csv\",\n",
    "    \"https://terminusdb.com/t/data/bikeshare/201802-capitalbikeshare-tripdata.csv\",\n",
    "    \"https://terminusdb.com/t/data/bikeshare/201803-capitalbikeshare-tripdata.csv\",\n",
    "    \"https://terminusdb.com/t/data/bikeshare/201804-capitalbikeshare-tripdata.csv\",\n",
    "    \"https://terminusdb.com/t/data/bikeshare/201805-capitalbikeshare-tripdata.csv\",\n",
    "    \"https://terminusdb.com/t/data/bikeshare/201806-capitalbikeshare-tripdata.csv\",\n",
    "    \"https://terminusdb.com/t/data/bikeshare/201807-capitalbikeshare-tripdata.csv\",\n",
    "    \"https://terminusdb.com/t/data/bikeshare/201808-capitalbikeshare-tripdata.csv\",\n",
    "    \"https://terminusdb.com/t/data/bikeshare/201809-capitalbikeshare-tripdata.csv\",\n",
    "    \"https://terminusdb.com/t/data/bikeshare/201810-capitalbikeshare-tripdata.csv\",\n",
    "    \"https://terminusdb.com/t/data/bikeshare/201811-capitalbikeshare-tripdata.csv\",\n",
    "    \"https://terminusdb.com/t/data/bikeshare/201812-capitalbikeshare-tripdata.csv\"\n",
    "]"
   ]
  },
  {
   "cell_type": "code",
   "execution_count": 6,
   "metadata": {},
   "outputs": [],
   "source": [
    "def get_csv_variables(url):\n",
    "    \"\"\"Extracting the data from a CSV and binding it to variables\n",
    "       Parameters\n",
    "       ==========\n",
    "       client : a WOQLClient() connection\n",
    "       url : string, the URL of the CSV\n",
    "       \"\"\"\n",
    "    csv = WOQLQuery().get(\n",
    "        WOQLQuery().woql_as(\"Start station\", \"v:Start_Station\").\n",
    "        woql_as(\"End station\", \"v:End_Station\").\n",
    "        woql_as(\"Start date\", \"v:Start_Time\").\n",
    "        woql_as(\"End date\", \"v:End_Time\").\n",
    "        woql_as(\"Duration\", \"v:Duration\").\n",
    "        woql_as(\"Start station number\", \"v:Start_ID\").\n",
    "        woql_as(\"End station number\", \"v:End_ID\").\n",
    "        woql_as(\"Bike number\", \"v:Bike\").\n",
    "        woql_as(\"Member type\", \"v:Member_Type\")\n",
    "    ).remote(url)\n",
    "    return csv\n",
    "\n",
    "\n",
    "def get_wrangles():\n",
    "    wrangles = [\n",
    "        WOQLQuery().idgen(\"doc:Journey\", [\n",
    "            \"v:Start_ID\", \"v:Start_Time\", \"v:Bike\"], \"v:Journey_ID\"),\n",
    "        WOQLQuery().idgen(\"doc:Station\", [\n",
    "            \"v:Start_ID\"], \"v:Start_Station_URL\"),\n",
    "        WOQLQuery().cast(\"v:Duration\", \"xsd:integer\", \"v:Duration_Cast\"),\n",
    "        WOQLQuery().cast(\"v:Bike\", \"xsd:string\", \"v:Bike_Label\"),\n",
    "        WOQLQuery().cast(\"v:Start_Time\", \"xsd:dateTime\", \"v:Start_Time_Cast\"),\n",
    "        WOQLQuery().cast(\"v:End_Time\", \"xsd:dateTime\", \"v:End_Time_Cast\"),\n",
    "        WOQLQuery().cast(\"v:Start_Station\", \"xsd:string\", \"v:Start_Station_Label\"),\n",
    "        WOQLQuery().cast(\"v:End_Station\", \"xsd:string\", \"v:End_Station_Label\"),\n",
    "        WOQLQuery().idgen(\"doc:Station\", [\"v:End_ID\"], \"v:End_Station_URL\"),\n",
    "        WOQLQuery().idgen(\"doc:Bicycle\", [\"v:Bike_Label\"], \"v:Bike_URL\"),\n",
    "        WOQLQuery().concat(\"Journey from v:Start_ID to v:End_ID at v:Start_Time\", \"v:Journey_Label\"),\n",
    "        WOQLQuery().concat(\"Bike v:Bike from v:Start_Station to v:End_Station at v:Start_Time until v:End_Time\",\n",
    "                           \"v:Journey_Description\")\n",
    "    ]\n",
    "    return wrangles\n",
    "\n",
    "\n",
    "def get_inserts():\n",
    "    inserts = WOQLQuery().woql_and(\n",
    "        WOQLQuery().insert(\"v:Journey_ID\", \"Journey\",\n",
    "            label=\"v:Journey_Label\",\n",
    "            description=\"v:Journey_Description\").\n",
    "            property(\"start_time\", \"v:Start_Time_Cast\").\n",
    "            property(\"end_time\", \"v:End_Time_Cast\").\n",
    "            property(\"duration\", \"v:Duration_Cast\").\n",
    "            property(\"start_station\", \"v:Start_Station_URL\").\n",
    "            property(\"end_station\", \"v:End_Station_URL\").\n",
    "            property(\"journey_bicycle\", \"v:Bike_URL\"),\n",
    "        WOQLQuery().insert(\"v:Start_Station_URL\", \"Station\",\n",
    "            label=\"v:Start_Station_Label\"),\n",
    "        WOQLQuery().insert(\"v:End_Station_URL\", \"Station\",\n",
    "            label=\"v:End_Station_Label\"),\n",
    "        WOQLQuery().insert(\"v:Bike_URL\", \"Bicycle\",\n",
    "            label=\"v:Bike_Label\")\n",
    "    )\n",
    "    return inserts\n",
    "\n",
    "\n",
    "def load_csvs(client, csvlist, wrangl, insert):\n",
    "    \"\"\"Load the CSVs as input\n",
    "       Parameters\n",
    "       ==========\n",
    "       client : a WOQLClient() connection\n",
    "       csvs : a dict of all csvs to be input\n",
    "    \"\"\"\n",
    "    for url in csvlist:\n",
    "        csv = get_csv_variables(url)\n",
    "        inputs = WOQLQuery().woql_and(csv, *wrangl)\n",
    "        answer = WOQLQuery().when(inputs, insert)\n",
    "        answer.execute(client, f\"loading {url} into the graph\")\n",
    "\n",
    "load_csvs(client, csvs, get_wrangles(), get_inserts())"
   ]
  },
  {
   "cell_type": "code",
   "execution_count": 7,
   "metadata": {
    "scrolled": true
   },
   "outputs": [
    {
     "name": "stderr",
     "output_type": "stream",
     "text": [
      "/Users/saran-7185/personal_repos/pycon-devsprint2020/terminusdb/terminusdb-bootstrap/env/lib/python3.7/site-packages/ipykernel/ipkernel.py:287: DeprecationWarning: `should_run_async` will not call `transform_cell` automatically in the future. Please pass the result to `transformed_cell` argument and any exception that happen during thetransform in `preprocessing_exc_tuple` in IPython 7.17 and above.\n",
      "  and should_run_async(code)\n"
     ]
    }
   ],
   "source": [
    "def query_data(client):\n",
    "    \"\"\"The query which query the database\n",
    "        Parameters - it uses variables rather than the fluent style as an example\n",
    "        ==========\n",
    "        client : a WOQLClient() connection\n",
    "    \"\"\"\n",
    "    conditions = [WOQLQuery().triple(\"v:Journey\", \"type\", \"scm:Journey\"),\n",
    "                  WOQLQuery().triple(\"v:Journey\", \"start_station\", \"v:Start\"),\n",
    "                  WOQLQuery().opt().triple(\"v:Start\", \"label\", \"v:Start_Label\"),\n",
    "                  WOQLQuery().triple(\"v:Journey\", \"end_station\", \"v:End\"),\n",
    "                  WOQLQuery().opt().triple(\"v:End\", \"label\", \"v:End_Label\"),\n",
    "                  WOQLQuery().triple(\"v:Journey\", \"journey_bicycle\", \"v:Bike\")]\n",
    "    query = WOQLQuery().select(\"v:Start\",\n",
    "                               \"v:Start_Label\",\n",
    "                               \"v:End\",\n",
    "                               \"v:End_Label\").woql_and(*conditions)\n",
    "    return query.execute(client)\n",
    "\n",
    "result = query_data(client)"
   ]
  },
  {
   "cell_type": "code",
   "execution_count": 8,
   "metadata": {},
   "outputs": [
    {
     "name": "stderr",
     "output_type": "stream",
     "text": [
      "/Users/saran-7185/personal_repos/pycon-devsprint2020/terminusdb/terminusdb-bootstrap/env/lib/python3.7/site-packages/ipykernel/ipkernel.py:287: DeprecationWarning: `should_run_async` will not call `transform_cell` automatically in the future. Please pass the result to `transformed_cell` argument and any exception that happen during thetransform in `preprocessing_exc_tuple` in IPython 7.17 and above.\n",
      "  and should_run_async(code)\n",
      "/Users/saran-7185/personal_repos/pycon-devsprint2020/terminusdb/terminusdb-bootstrap/env/lib/python3.7/site-packages/terminusdb_client/woqldataframe/woqlDataframe.py:251: UserWarning: DEPRECATED in 0.3.0: use result_to_df instead.\n",
      "  warnings.warn(\"DEPRECATED in 0.3.0: use result_to_df instead.\")\n"
     ]
    },
    {
     "data": {
      "text/html": [
       "<div>\n",
       "<style scoped>\n",
       "    .dataframe tbody tr th:only-of-type {\n",
       "        vertical-align: middle;\n",
       "    }\n",
       "\n",
       "    .dataframe tbody tr th {\n",
       "        vertical-align: top;\n",
       "    }\n",
       "\n",
       "    .dataframe thead th {\n",
       "        text-align: right;\n",
       "    }\n",
       "</style>\n",
       "<table border=\"1\" class=\"dataframe\">\n",
       "  <thead>\n",
       "    <tr style=\"text-align: right;\">\n",
       "      <th></th>\n",
       "      <th>End</th>\n",
       "      <th>End_Label</th>\n",
       "      <th>Start</th>\n",
       "      <th>Start_Label</th>\n",
       "    </tr>\n",
       "  </thead>\n",
       "  <tbody>\n",
       "    <tr>\n",
       "      <th>0</th>\n",
       "      <td>terminusdb:///data/Station_31010</td>\n",
       "      <td>S Glebe &amp; Potomac Ave</td>\n",
       "      <td>terminusdb:///data/Station_31007</td>\n",
       "      <td>Crystal City Metro / 18th &amp; Bell St</td>\n",
       "    </tr>\n",
       "    <tr>\n",
       "      <th>1</th>\n",
       "      <td>terminusdb:///data/Station_31010</td>\n",
       "      <td>S Glebe &amp; Potomac Ave</td>\n",
       "      <td>terminusdb:///data/Station_31007</td>\n",
       "      <td>Crystal City Metro / 18th &amp; Bell St</td>\n",
       "    </tr>\n",
       "    <tr>\n",
       "      <th>2</th>\n",
       "      <td>terminusdb:///data/Station_31229</td>\n",
       "      <td>New Hampshire Ave &amp; T St NW</td>\n",
       "      <td>terminusdb:///data/Station_31101</td>\n",
       "      <td>14th &amp; V St NW</td>\n",
       "    </tr>\n",
       "    <tr>\n",
       "      <th>3</th>\n",
       "      <td>terminusdb:///data/Station_31229</td>\n",
       "      <td>New Hampshire Ave &amp; T St NW</td>\n",
       "      <td>terminusdb:///data/Station_31101</td>\n",
       "      <td>14th &amp; V St NW</td>\n",
       "    </tr>\n",
       "    <tr>\n",
       "      <th>4</th>\n",
       "      <td>terminusdb:///data/Station_31207</td>\n",
       "      <td>Georgia Ave and Fairmont St NW</td>\n",
       "      <td>terminusdb:///data/Station_31101</td>\n",
       "      <td>14th &amp; V St NW</td>\n",
       "    </tr>\n",
       "    <tr>\n",
       "      <th>...</th>\n",
       "      <td>...</td>\n",
       "      <td>...</td>\n",
       "      <td>...</td>\n",
       "      <td>...</td>\n",
       "    </tr>\n",
       "    <tr>\n",
       "      <th>1882</th>\n",
       "      <td>terminusdb:///data/Station_31286</td>\n",
       "      <td>11th &amp; O St NW</td>\n",
       "      <td>terminusdb:///data/Station_31636</td>\n",
       "      <td>New Jersey Ave &amp; N St NW/Dunbar HS</td>\n",
       "    </tr>\n",
       "    <tr>\n",
       "      <th>1883</th>\n",
       "      <td>terminusdb:///data/Station_31286</td>\n",
       "      <td>11th &amp; O St NW</td>\n",
       "      <td>terminusdb:///data/Station_31636</td>\n",
       "      <td>New Jersey Ave &amp; N St NW/Dunbar HS</td>\n",
       "    </tr>\n",
       "    <tr>\n",
       "      <th>1884</th>\n",
       "      <td>terminusdb:///data/Station_31612</td>\n",
       "      <td>D St &amp; Maryland Ave NE</td>\n",
       "      <td>terminusdb:///data/Station_31641</td>\n",
       "      <td>2nd St &amp; Massachusetts Ave NE</td>\n",
       "    </tr>\n",
       "    <tr>\n",
       "      <th>1885</th>\n",
       "      <td>terminusdb:///data/Station_31609</td>\n",
       "      <td>Maine Ave &amp; 7th St SW</td>\n",
       "      <td>terminusdb:///data/Station_31648</td>\n",
       "      <td>Potomac Ave &amp; Half St SW</td>\n",
       "    </tr>\n",
       "    <tr>\n",
       "      <th>1886</th>\n",
       "      <td>terminusdb:///data/Station_32038</td>\n",
       "      <td>King Farm Blvd &amp; Piccard Dr</td>\n",
       "      <td>terminusdb:///data/Station_32045</td>\n",
       "      <td>Shady Grove Metro West</td>\n",
       "    </tr>\n",
       "  </tbody>\n",
       "</table>\n",
       "<p>1887 rows × 4 columns</p>\n",
       "</div>"
      ],
      "text/plain": [
       "                                   End                       End_Label  \\\n",
       "0     terminusdb:///data/Station_31010           S Glebe & Potomac Ave   \n",
       "1     terminusdb:///data/Station_31010           S Glebe & Potomac Ave   \n",
       "2     terminusdb:///data/Station_31229     New Hampshire Ave & T St NW   \n",
       "3     terminusdb:///data/Station_31229     New Hampshire Ave & T St NW   \n",
       "4     terminusdb:///data/Station_31207  Georgia Ave and Fairmont St NW   \n",
       "...                                ...                             ...   \n",
       "1882  terminusdb:///data/Station_31286                  11th & O St NW   \n",
       "1883  terminusdb:///data/Station_31286                  11th & O St NW   \n",
       "1884  terminusdb:///data/Station_31612          D St & Maryland Ave NE   \n",
       "1885  terminusdb:///data/Station_31609           Maine Ave & 7th St SW   \n",
       "1886  terminusdb:///data/Station_32038     King Farm Blvd & Piccard Dr   \n",
       "\n",
       "                                 Start                          Start_Label  \n",
       "0     terminusdb:///data/Station_31007  Crystal City Metro / 18th & Bell St  \n",
       "1     terminusdb:///data/Station_31007  Crystal City Metro / 18th & Bell St  \n",
       "2     terminusdb:///data/Station_31101                       14th & V St NW  \n",
       "3     terminusdb:///data/Station_31101                       14th & V St NW  \n",
       "4     terminusdb:///data/Station_31101                       14th & V St NW  \n",
       "...                                ...                                  ...  \n",
       "1882  terminusdb:///data/Station_31636   New Jersey Ave & N St NW/Dunbar HS  \n",
       "1883  terminusdb:///data/Station_31636   New Jersey Ave & N St NW/Dunbar HS  \n",
       "1884  terminusdb:///data/Station_31641        2nd St & Massachusetts Ave NE  \n",
       "1885  terminusdb:///data/Station_31648             Potomac Ave & Half St SW  \n",
       "1886  terminusdb:///data/Station_32045               Shady Grove Metro West  \n",
       "\n",
       "[1887 rows x 4 columns]"
      ]
     },
     "execution_count": 8,
     "metadata": {},
     "output_type": "execute_result"
    }
   ],
   "source": [
    "woqldataframe.query_to_df(result)"
   ]
  }
 ],
 "metadata": {
  "kernelspec": {
   "display_name": "Python 3",
   "language": "python",
   "name": "python3"
  },
  "language_info": {
   "codemirror_mode": {
    "name": "ipython",
    "version": 3
   },
   "file_extension": ".py",
   "mimetype": "text/x-python",
   "name": "python",
   "nbconvert_exporter": "python",
   "pygments_lexer": "ipython3",
   "version": "3.7.5"
  }
 },
 "nbformat": 4,
 "nbformat_minor": 4
}
