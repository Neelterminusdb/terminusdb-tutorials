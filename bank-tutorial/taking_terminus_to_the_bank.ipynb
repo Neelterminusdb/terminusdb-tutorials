{
 "cells": [
  {
   "cell_type": "code",
   "execution_count": null,
   "metadata": {
    "scrolled": true
   },
   "outputs": [],
   "source": [
    "from terminusdb_client import WOQLQuery as WQ\n",
    "from terminusdb_client import WOQLClient\n",
    "\n",
    "server_url = \"https://127.0.0.1:6363\"\n",
    "user = \"admin\"\n",
    "account = \"admin\"\n",
    "key = \"root\"\n",
    "dbid = \"Bank_Balance_Example\"\n",
    "repository = \"local\"\n",
    "label = \"Bank Balance Example\"\n",
    "description = \"An example database for playing with bank accounts\"\n",
    "\n",
    "client = WOQLClient(server_url)\n",
    "result = client.connect(user=user,account=\"admin\",key=key,db=dbid)"
   ]
  },
  {
   "cell_type": "code",
   "execution_count": null,
   "metadata": {},
   "outputs": [],
   "source": [
    "# Uncomment this to delete your old database first\n",
    "# client.delete_database(dbid)"
   ]
  },
  {
   "cell_type": "code",
   "execution_count": null,
   "metadata": {},
   "outputs": [],
   "source": [
    "# Create the database\n",
    "try:\n",
    "    client.create_database(dbid,user,label=label, description=description)\n",
    "except Exception as E:\n",
    "    error_obj = E.errorObj\n",
    "    if \"api:DatabaseAlreadyExists\" == error_obj.get(\"api:error\",{}).get(\"@type\",None):\n",
    "        print(f'Warning: Database \"{dbid}\" already exists!\\n')\n",
    "    else:\n",
    "        raise(E)"
   ]
  },
  {
   "cell_type": "code",
   "execution_count": null,
   "metadata": {},
   "outputs": [],
   "source": [
    "# Add the schema (there is no harm in adding repeatedly as it is idempotent)\n",
    "query = WQ().woql_and(\n",
    "    WQ().doctype(\"scm:BankAccount\")\n",
    "        .label(\"Bank Account\")\n",
    "        .description(\"A bank account\")\n",
    "        .property(\"scm:owner\", \"xsd:string\")\n",
    "            .label(\"owner\")\n",
    "            .cardinality(1)\n",
    "        .property(\"scm:balance\",\"xsd:nonNegativeInteger\")\n",
    "            .label(\"owner\")\n",
    ").execute(client, \"Adding bank account object to schema\")"
   ]
  },
  {
   "cell_type": "code",
   "execution_count": null,
   "metadata": {},
   "outputs": [],
   "source": [
    "# Fix bug in schema\n",
    "query = WQ().woql_and(\n",
    "    WQ().delete_quad(\"scm:balance\", \"label\", \"owner\", \"schema/main\"),\n",
    "    WQ().add_quad(\"scm:balance\", \"label\", \"balance\", \"schema/main\")\n",
    ").execute(client, \"Label for balance was wrong\")"
   ]
  },
  {
   "cell_type": "code",
   "execution_count": null,
   "metadata": {},
   "outputs": [],
   "source": [
    "# Add the data to the main branch\n",
    "query = WQ().woql_and(\n",
    "    WQ().insert(\"doc:001234\", \"scm:BankAccount\")\n",
    "        .property(\"scm:owner\", \"Mike\")\n",
    "        .property(\"scm:balance\", 123)\n",
    ").execute(client, \"Add mike\")"
   ]
  },
  {
   "cell_type": "code",
   "execution_count": null,
   "metadata": {},
   "outputs": [],
   "source": [
    "# try to make mike go below zero\n",
    "account_id, balance, new_balance = WQ().vars(\"AccountID\", \"Balance\", \"New Balance\")\n",
    "try:\n",
    "    query = WQ().woql_and(\n",
    "        WQ().triple(account_id, \"scm:owner\", \"Mike\"),\n",
    "        WQ().triple(account_id, \"scm:balance\", balance),\n",
    "        WQ().delete_triple(account_id, \"scm:balance\", balance),\n",
    "        WQ().eval(WQ().minus(balance, 130), new_balance),\n",
    "        WQ().add_triple(account_id, \"scm:balance\", new_balance)\n",
    "    ).execute(client, \"Update mike\")\n",
    "except Exception as E:\n",
    "    error_obj = E.errorObj\n",
    "    print(f'Witness of failure for mike: {error_obj}')"
   ]
  },
  {
   "cell_type": "code",
   "execution_count": null,
   "metadata": {},
   "outputs": [],
   "source": [
    "# Subtract less\n",
    "query = WQ().woql_and(\n",
    "    WQ().triple(account_id, \"scm:owner\", \"Mike\"),\n",
    "    WQ().triple(account_id, \"scm:balance\", balance),\n",
    "    WQ().delete_triple(account_id, \"scm:balance\", balance),\n",
    "    WQ().eval(WQ().minus(balance, 110), new_balance),\n",
    "    WQ().add_triple(account_id, \"scm:balance\", new_balance)\n",
    ").execute(client, \"Update mike\")"
   ]
  },
  {
   "cell_type": "code",
   "execution_count": null,
   "metadata": {},
   "outputs": [],
   "source": [
    "# Mike only has 13 money\n",
    "(WQ().triple(account_id, \"scm:owner\", \"Mike\") \n",
    " + WQ().triple(account_id, \"scm:balance\", balance)).execute(client)"
   ]
  },
  {
   "cell_type": "code",
   "execution_count": null,
   "metadata": {},
   "outputs": [],
   "source": [
    "# Make the \"branch_office\" branch\n",
    "branch = \"branch_office\"\n",
    "try:\n",
    "    client.branch(branch)\n",
    "except Exception as E:\n",
    "    error_obj = E.errorObj\n",
    "    if \"api:BranchExistsError\" == error_obj.get(\"api:error\",{}).get(\"@type\",None):\n",
    "        print(f'Warning: Branch \"{branch}\" already exists!\\n')\n",
    "    else:\n",
    "        raise(E)"
   ]
  },
  {
   "cell_type": "code",
   "execution_count": null,
   "metadata": {},
   "outputs": [],
   "source": [
    "# Add some data to the branch\n",
    "client.checkout(branch)\n",
    "query = WQ().woql_and(\n",
    "  WQ().insert(\"doc:034521\", \"scm:BankAccount\")\n",
    "      .property(\"owner\", \"Jim\")\n",
    "      .property(\"balance\", 8)\n",
    ").execute(client,\"Adding Jim\")"
   ]
  },
  {
   "cell_type": "code",
   "execution_count": null,
   "metadata": {},
   "outputs": [],
   "source": [
    "# Return to the 'main' branch and add Jane\n",
    "client.checkout('main')\n",
    "query = WQ().woql_and(\n",
    "  WQ().insert(\"doc:098765\", \"scm:BankAccount\")\n",
    "      .property(\"owner\", \"Jane\")\n",
    "      .property(\"balance\", 887)\n",
    ").execute(client,\"Adding Jane\")"
   ]
  },
  {
   "cell_type": "code",
   "execution_count": null,
   "metadata": {},
   "outputs": [],
   "source": [
    "try:\n",
    "    client.rebase({\"rebase_from\": f'{user}/{dbid}/{repository}/branch/{branch}',\n",
    "                   \"author\": user,\n",
    "                   \"message\": \"Merging jim in from branch_office\"})\n",
    "except Exception as E:\n",
    "    error_obj = E.errorObj\n",
    "    print(f'{error_obj}\\n')"
   ]
  },
  {
   "cell_type": "code",
   "execution_count": null,
   "metadata": {},
   "outputs": [],
   "source": [
    "q = WQ().limit(10).triple(\"v:X\",\"v:Y\",\"v:Z\")\n",
    "client.query(q)"
   ]
  }
 ],
 "metadata": {
  "kernelspec": {
   "display_name": "Python 3",
   "language": "python",
   "name": "python3"
  },
  "language_info": {
   "codemirror_mode": {
    "name": "ipython",
    "version": 3
   },
   "file_extension": ".py",
   "mimetype": "text/x-python",
   "name": "python",
   "nbconvert_exporter": "python",
   "pygments_lexer": "ipython3",
   "version": "3.7.3"
  }
 },
 "nbformat": 4,
 "nbformat_minor": 4
}
