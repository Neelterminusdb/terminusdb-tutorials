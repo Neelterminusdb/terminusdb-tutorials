{
 "cells": [
  {
   "cell_type": "code",
   "execution_count": 1,
   "metadata": {},
   "outputs": [],
   "source": [
    "from random import choice\n",
    "from terminusdb_client import WOQLQuery, WOQLClient\n",
    "import terminusdb_client.woqldataframe as woqldf\n",
    "import pandas as pd"
   ]
  },
  {
   "cell_type": "code",
   "execution_count": 2,
   "metadata": {},
   "outputs": [
    {
     "data": {
      "text/plain": [
       "'movie_graph'"
      ]
     },
     "execution_count": 2,
     "metadata": {},
     "output_type": "execute_result"
    }
   ],
   "source": [
    "db_id = \"movie_graph\"\n",
    "client = WOQLClient(\"https://127.0.0.1:6363\")\n",
    "client.connect(key=\"root\", account=\"admin\", user=\"admin\")\n",
    "client.db(db_id)"
   ]
  },
  {
   "cell_type": "code",
   "execution_count": 3,
   "metadata": {},
   "outputs": [
    {
     "name": "stderr",
     "output_type": "stream",
     "text": [
      "/Users/cheuktingho/.pyenv/versions/3.7.3/envs/test-terminusdb-client/lib/python3.7/site-packages/terminusdb_client/woqldataframe/woqlDataframe.py:251: UserWarning: DEPRECATED in 0.3.0: use result_to_df instead.\n",
      "  warnings.warn(\"DEPRECATED in 0.3.0: use result_to_df instead.\")\n"
     ]
    }
   ],
   "source": [
    "result = WOQLQuery().star().execute(client)\n",
    "result_df = woqldf.query_to_df(result)"
   ]
  },
  {
   "cell_type": "code",
   "execution_count": 4,
   "metadata": {},
   "outputs": [
    {
     "data": {
      "text/html": [
       "<div>\n",
       "<style scoped>\n",
       "    .dataframe tbody tr th:only-of-type {\n",
       "        vertical-align: middle;\n",
       "    }\n",
       "\n",
       "    .dataframe tbody tr th {\n",
       "        vertical-align: top;\n",
       "    }\n",
       "\n",
       "    .dataframe thead th {\n",
       "        text-align: right;\n",
       "    }\n",
       "</style>\n",
       "<table border=\"1\" class=\"dataframe\">\n",
       "  <thead>\n",
       "    <tr style=\"text-align: right;\">\n",
       "      <th></th>\n",
       "      <th>Object</th>\n",
       "      <th>Predicate</th>\n",
       "      <th>Subject</th>\n",
       "    </tr>\n",
       "  </thead>\n",
       "  <tbody>\n",
       "    <tr>\n",
       "      <th>0</th>\n",
       "      <td>terminusdb:///schema#Genre</td>\n",
       "      <td>http://www.w3.org/1999/02/22-rdf-syntax-ns#type</td>\n",
       "      <td>terminusdb:///data/Genre_Action</td>\n",
       "    </tr>\n",
       "    <tr>\n",
       "      <th>1</th>\n",
       "      <td>Action</td>\n",
       "      <td>http://www.w3.org/2000/01/rdf-schema#label</td>\n",
       "      <td>terminusdb:///data/Genre_Action</td>\n",
       "    </tr>\n",
       "    <tr>\n",
       "      <th>2</th>\n",
       "      <td>terminusdb:///schema#Genre</td>\n",
       "      <td>http://www.w3.org/1999/02/22-rdf-syntax-ns#type</td>\n",
       "      <td>terminusdb:///data/Genre_Action,Adventure</td>\n",
       "    </tr>\n",
       "    <tr>\n",
       "      <th>3</th>\n",
       "      <td>Action,Adventure</td>\n",
       "      <td>http://www.w3.org/2000/01/rdf-schema#label</td>\n",
       "      <td>terminusdb:///data/Genre_Action,Adventure</td>\n",
       "    </tr>\n",
       "    <tr>\n",
       "      <th>4</th>\n",
       "      <td>terminusdb:///schema#Genre</td>\n",
       "      <td>http://www.w3.org/1999/02/22-rdf-syntax-ns#type</td>\n",
       "      <td>terminusdb:///data/Genre_Action,Adventure,Biog...</td>\n",
       "    </tr>\n",
       "  </tbody>\n",
       "</table>\n",
       "</div>"
      ],
      "text/plain": [
       "                       Object  \\\n",
       "0  terminusdb:///schema#Genre   \n",
       "1                      Action   \n",
       "2  terminusdb:///schema#Genre   \n",
       "3            Action,Adventure   \n",
       "4  terminusdb:///schema#Genre   \n",
       "\n",
       "                                         Predicate  \\\n",
       "0  http://www.w3.org/1999/02/22-rdf-syntax-ns#type   \n",
       "1       http://www.w3.org/2000/01/rdf-schema#label   \n",
       "2  http://www.w3.org/1999/02/22-rdf-syntax-ns#type   \n",
       "3       http://www.w3.org/2000/01/rdf-schema#label   \n",
       "4  http://www.w3.org/1999/02/22-rdf-syntax-ns#type   \n",
       "\n",
       "                                             Subject  \n",
       "0                    terminusdb:///data/Genre_Action  \n",
       "1                    terminusdb:///data/Genre_Action  \n",
       "2          terminusdb:///data/Genre_Action,Adventure  \n",
       "3          terminusdb:///data/Genre_Action,Adventure  \n",
       "4  terminusdb:///data/Genre_Action,Adventure,Biog...  "
      ]
     },
     "execution_count": 4,
     "metadata": {},
     "output_type": "execute_result"
    }
   ],
   "source": [
    "result_df.head()"
   ]
  },
  {
   "cell_type": "markdown",
   "metadata": {},
   "source": [
    "# Finding the movies that an actor is in"
   ]
  },
  {
   "cell_type": "code",
   "execution_count": 5,
   "metadata": {},
   "outputs": [
    {
     "name": "stderr",
     "output_type": "stream",
     "text": [
      "/Users/cheuktingho/.pyenv/versions/3.7.3/envs/test-terminusdb-client/lib/python3.7/site-packages/terminusdb_client/woqldataframe/woqlDataframe.py:251: UserWarning: DEPRECATED in 0.3.0: use result_to_df instead.\n",
      "  warnings.warn(\"DEPRECATED in 0.3.0: use result_to_df instead.\")\n"
     ]
    },
    {
     "data": {
      "text/html": [
       "<div>\n",
       "<style scoped>\n",
       "    .dataframe tbody tr th:only-of-type {\n",
       "        vertical-align: middle;\n",
       "    }\n",
       "\n",
       "    .dataframe tbody tr th {\n",
       "        vertical-align: top;\n",
       "    }\n",
       "\n",
       "    .dataframe thead th {\n",
       "        text-align: right;\n",
       "    }\n",
       "</style>\n",
       "<table border=\"1\" class=\"dataframe\">\n",
       "  <thead>\n",
       "    <tr style=\"text-align: right;\">\n",
       "      <th></th>\n",
       "      <th>movie_name</th>\n",
       "      <th>some_name</th>\n",
       "    </tr>\n",
       "  </thead>\n",
       "  <tbody>\n",
       "    <tr>\n",
       "      <th>0</th>\n",
       "      <td>Australia</td>\n",
       "      <td>Nicole Kidman</td>\n",
       "    </tr>\n",
       "    <tr>\n",
       "      <th>1</th>\n",
       "      <td>Genius</td>\n",
       "      <td>Nicole Kidman</td>\n",
       "    </tr>\n",
       "    <tr>\n",
       "      <th>2</th>\n",
       "      <td>Lion</td>\n",
       "      <td>Nicole Kidman</td>\n",
       "    </tr>\n",
       "    <tr>\n",
       "      <th>3</th>\n",
       "      <td>Secret in Their Eyes</td>\n",
       "      <td>Nicole Kidman</td>\n",
       "    </tr>\n",
       "    <tr>\n",
       "      <th>4</th>\n",
       "      <td>The Golden Compass</td>\n",
       "      <td>Nicole Kidman</td>\n",
       "    </tr>\n",
       "  </tbody>\n",
       "</table>\n",
       "</div>"
      ],
      "text/plain": [
       "             movie_name      some_name\n",
       "0             Australia  Nicole Kidman\n",
       "1                Genius  Nicole Kidman\n",
       "2                  Lion  Nicole Kidman\n",
       "3  Secret in Their Eyes  Nicole Kidman\n",
       "4    The Golden Compass  Nicole Kidman"
      ]
     },
     "execution_count": 5,
     "metadata": {},
     "output_type": "execute_result"
    }
   ],
   "source": [
    "actor = \"Nicole Kidman\"\n",
    "query = (WOQLQuery().select(\"v:some_name\", \"v:movie_name\")\n",
    "                    .triple(\"v:someone\", \"type\", \"scm:Person\")\n",
    "                    .triple(\"v:someone\", \"label\", \"v:some_name\")\n",
    "                    .eq(\"v:some_name\", actor)\n",
    "                    .triple(\"v:some_movie\", \"type\", \"scm:Movie\")\n",
    "                    .triple(\"v:some_movie\", \"Cast\", \"v:someone\")\n",
    "                    .triple(\"v:some_movie\", \"label\", \"v:movie_name\")\n",
    "        )\n",
    "result = query.execute(client)\n",
    "result_df = woqldf.query_to_df(result)\n",
    "result_df.head(30)"
   ]
  },
  {
   "cell_type": "markdown",
   "metadata": {},
   "source": [
    "# Find a movie to watch tonight"
   ]
  },
  {
   "cell_type": "code",
   "execution_count": 6,
   "metadata": {},
   "outputs": [
    {
     "name": "stderr",
     "output_type": "stream",
     "text": [
      "/Users/cheuktingho/.pyenv/versions/3.7.3/envs/test-terminusdb-client/lib/python3.7/site-packages/terminusdb_client/woqldataframe/woqlDataframe.py:251: UserWarning: DEPRECATED in 0.3.0: use result_to_df instead.\n",
      "  warnings.warn(\"DEPRECATED in 0.3.0: use result_to_df instead.\")\n"
     ]
    },
    {
     "data": {
      "text/plain": [
       "'Despicable Me 2'"
      ]
     },
     "execution_count": 6,
     "metadata": {},
     "output_type": "execute_result"
    }
   ],
   "source": [
    "genre = \"Adventure\"\n",
    "query = (WOQLQuery().select(\"v:gerne_name\", \"v:movie_name\")\n",
    "                    .triple(\"v:some_gerne\", \"type\", \"scm:Genre\")\n",
    "                    .triple(\"v:some_gerne\", \"label\", \"v:gerne_name\")\n",
    "                    .eq(\"v:gerne_name\", genre)\n",
    "                    .triple(\"v:some_movie\", \"type\", \"scm:Movie\")\n",
    "                    .triple(\"v:some_movie\", \"label\", \"v:movie_name\")\n",
    "        )\n",
    "result = query.execute(client)\n",
    "result_df = woqldf.query_to_df(result)\n",
    "all_movie = result_df['movie_name']\n",
    "choice(all_movie)"
   ]
  }
 ],
 "metadata": {
  "kernelspec": {
   "display_name": "Python 3",
   "language": "python",
   "name": "python3"
  },
  "language_info": {
   "codemirror_mode": {
    "name": "ipython",
    "version": 3
   },
   "file_extension": ".py",
   "mimetype": "text/x-python",
   "name": "python",
   "nbconvert_exporter": "python",
   "pygments_lexer": "ipython3",
   "version": "3.7.3"
  }
 },
 "nbformat": 4,
 "nbformat_minor": 4
}
