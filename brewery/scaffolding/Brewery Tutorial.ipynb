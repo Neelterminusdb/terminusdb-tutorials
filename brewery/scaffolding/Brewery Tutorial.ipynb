{
 "cells": [
  {
   "cell_type": "markdown",
   "id": "e527090b",
   "metadata": {},
   "source": [
    "# Brewery Tutorial\n",
    "__[Open Brewery](https://www.openbrewerydb.org)__ DB is a free dataset and API with public information on breweries, cideries, brewpubs, and bottleshops. The goal of Open Brewery DB is to maintain an open-source, community-driven dataset and provide a public API. Datasets provided by the project are available in the following formats:\n",
    "- __[CSV](https://github.com/openbrewerydb/openbrewerydb/blob/master/breweries.csv)__\n",
    "- __[JSON](https://github.com/openbrewerydb/openbrewerydb/blob/master/breweries.json)__\n",
    "- __[PostgreSQL SQL](https://github.com/openbrewerydb/openbrewerydb/blob/master/breweries.sql)__\n",
    "\n",
    "For this tutorial, CSV will be used.\n",
    "\n",
    "TerminusDB Server must be installed on your system before running the Python script. Follow the instructions on __[terminusdb-bootstrap](https://github.com/terminusdb/terminusdb-bootstrap)__. terminusdb-server will be running as a Docker container on http://127.0.0.1:6363.\n",
    "\n",
    "Python client of TerminusDB is also required. It can be installed from source or through `pip`, you can follow the instructions in the __[repository](https://github.com/terminusdb/terminusdb-client-python)__. When running `pip install terminusdb-client[dataframe]` you will get pandas that is required for reading and import data from CSV files. If installed from source, run `pip install pandas`. tdqm is used for adding a progress bar, run `pip install tqdm` to install it.\n",
    "\n",
    "Columns in the dataset that are not required must be deleted before importing data from CSV."
   ]
  },
  {
   "cell_type": "markdown",
   "id": "8fe33cde",
   "metadata": {},
   "source": [
    "## Scaffolding\n",
    "Database and schema creation in TerminusDB can be managed through the scaffolding tool available from the command line.\n",
    "\n",
    "- Create a new project"
   ]
  },
  {
   "cell_type": "code",
   "execution_count": null,
   "id": "0896dabb",
   "metadata": {},
   "outputs": [],
   "source": [
    "terminusdb startproject"
   ]
  },
  {
   "cell_type": "markdown",
   "id": "b86b7c7d",
   "metadata": {},
   "source": [
    "This command will create a schema template (̣̣`schema.py`) and configuration file (`config.json`) into current working directory. `schema.py` must be edited and schema definition replaced according to the data imported from the CSV file.\n",
    "\n",
    "- Update schema"
   ]
  },
  {
   "cell_type": "code",
   "execution_count": null,
   "id": "cdadbbf6",
   "metadata": {},
   "outputs": [],
   "source": [
    "terminusdb commit"
   ]
  },
  {
   "cell_type": "markdown",
   "id": "12675af5",
   "metadata": {},
   "source": [
    "Database will be created if not exists and connection established. Schema will be updated in TerminusDB.\n",
    "\n",
    "- Sync schema"
   ]
  },
  {
   "cell_type": "code",
   "execution_count": null,
   "id": "18baf1fa",
   "metadata": {},
   "outputs": [],
   "source": [
    "terminusdb sync"
   ]
  },
  {
   "cell_type": "markdown",
   "id": "7bdea89f",
   "metadata": {},
   "source": [
    "`schema.py` will be updated with database schema\n",
    "\n",
    "- Import CSV"
   ]
  },
  {
   "cell_type": "code",
   "execution_count": null,
   "id": "d752d8db",
   "metadata": {},
   "outputs": [],
   "source": [
    "terminusdb importcsv csv_file [options]"
   ]
  },
  {
   "cell_type": "markdown",
   "id": "b4e1cd4c",
   "metadata": {},
   "source": [
    "Data will be read and imported into TerminusDB. For `NA` values in the Open Brewery dataset, use `--na` option when running `terminusdb importcsv` with `skip` parameter to remove records with `NA`."
   ]
  },
  {
   "cell_type": "code",
   "execution_count": null,
   "id": "162db6cb",
   "metadata": {},
   "outputs": [],
   "source": [
    "termiusdb importcsv breweries.csv --na skip"
   ]
  },
  {
   "cell_type": "markdown",
   "id": "d029d928",
   "metadata": {},
   "source": [
    "- Delete database"
   ]
  },
  {
   "cell_type": "code",
   "execution_count": null,
   "id": "72c53255",
   "metadata": {},
   "outputs": [],
   "source": [
    "terminusdb deletedb database_name"
   ]
  },
  {
   "cell_type": "markdown",
   "id": "b304d874",
   "metadata": {},
   "source": [
    "## Schema creation\n",
    "The dataset has the following columns:\n",
    "- obdb_id\n",
    "- name\n",
    "- brewery_type\n",
    "- street\n",
    "- address_2\n",
    "- address_3\n",
    "- city\n",
    "- state\n",
    "- county_province\n",
    "- postal_code\n",
    "- website_url\n",
    "- phone\n",
    "- created_at\n",
    "- updated_at\n",
    "- country\n",
    "- longitude\n",
    "- latitude\n",
    "- tags\n",
    "\n",
    "Some of which are optional and rarely have a value assigned and can be omitted when creating the schema and importing the values.\n",
    "\n",
    "Analyzing the dataset:\n",
    "\n",
    "- A brewery has *name*, *type*, *address*, *phone* and *website url*\n",
    "- A brewery can be any of eleven different types (micro, nano, regional, brewpub, large, planning, bar, contract, proprietor, closed)\n",
    "- An address is a group of values that include *street*, *city*, *state*, *country*, *postal code* and *coordinates*\n",
    "- Coordinates are a pair of values, longitude and latitude\n",
    "\n",
    "Based on what's described above, the following documents are created, each class represents a document in the schema except Brewery Type that is an enum:\n",
    "- Brewery\n",
    "- Brewrey_Type\n",
    "- Address\n",
    "- City\n",
    "- State\n",
    "- Country\n",
    "- Coordinates\n",
    "\n",
    "`schema.py` must be customized according to the documents required and values imported from the CSV file.\n",
    "\n",
    "Don't forget to commit and sync the schema once changes are made."
   ]
  },
  {
   "cell_type": "code",
   "execution_count": null,
   "id": "417ca97b",
   "metadata": {},
   "outputs": [],
   "source": [
    "####\n",
    "# This is the script for storing the schema of your TerminusDB\n",
    "# database for your project.\n",
    "# Use 'terminusdb commit' to commit changes to the database and\n",
    "# use 'terminusdb sync' to change this file according to\n",
    "# the exsisting database schema\n",
    "####\n",
    "\n",
    "from typing import List, Optional\n",
    "\n",
    "from terminusdb_client.woqlschema import DocumentTemplate, EnumTemplate, RandomKey\n",
    "\n",
    "\n",
    "class Address(DocumentTemplate):\n",
    "    \"\"\"This is address\"\"\"\n",
    "\n",
    "    _subdocument = []\n",
    "    city: \"City\"\n",
    "    coordinates: List[\"Coordinates\"]\n",
    "    country: \"Country\"\n",
    "    postal_code: str\n",
    "    state: Optional[\"State\"]\n",
    "    street: str\n",
    "\n",
    "\n",
    "class Brewery(DocumentTemplate):\n",
    "    _key = RandomKey()\n",
    "    address_of: \"Address\"\n",
    "    name: str\n",
    "    phone: str\n",
    "    type_of: \"Brewery_Type\"\n",
    "    website_url: str\n",
    "\n",
    "\n",
    "class Brewery_Type(EnumTemplate):\n",
    "    micro = ()\n",
    "    nano = ()\n",
    "    regional = ()\n",
    "    brewpub = ()\n",
    "    large = ()\n",
    "    planning = ()\n",
    "    bar = ()\n",
    "    contract = ()\n",
    "    proprietor = ()\n",
    "    closed = ()\n",
    "    taproom = ()\n",
    "\n",
    "\n",
    "class City(DocumentTemplate):\n",
    "    _key = RandomKey()\n",
    "    name: str\n",
    "\n",
    "\n",
    "class Coordinates(DocumentTemplate):\n",
    "    _key = RandomKey()\n",
    "    latitude: float\n",
    "    longitude: float\n",
    "\n",
    "\n",
    "class Country(DocumentTemplate):\n",
    "    _key = RandomKey()\n",
    "    name: str\n",
    "\n",
    "\n",
    "class State(DocumentTemplate):\n",
    "    _key = RandomKey()\n",
    "    name: str"
   ]
  }
 ],
 "metadata": {
  "kernelspec": {
   "display_name": "Python 3 (ipykernel)",
   "language": "python",
   "name": "python3"
  },
  "language_info": {
   "codemirror_mode": {
    "name": "ipython",
    "version": 3
   },
   "file_extension": ".py",
   "mimetype": "text/x-python",
   "name": "python",
   "nbconvert_exporter": "python",
   "pygments_lexer": "ipython3",
   "version": "3.7.10"
  }
 },
 "nbformat": 4,
 "nbformat_minor": 5
}
